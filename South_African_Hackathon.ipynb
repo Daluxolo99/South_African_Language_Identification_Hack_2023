{
 "cells": [
  {
   "cell_type": "code",
   "execution_count": 93,
   "id": "8af63f6c",
   "metadata": {},
   "outputs": [],
   "source": [
    "import pandas as pd\n",
    "import numpy as np\n",
    "from sklearn.model_selection import train_test_split\n",
    "from sklearn.feature_extraction.text import CountVectorizer\n",
    "import matplotlib.pyplot as plt\n",
    "from sklearn.preprocessing import LabelEncoder\n",
    "from sklearn.linear_model import LogisticRegression\n",
    "from sklearn import metrics \n",
    "from sklearn.model_selection import train_test_split\n",
    "from sklearn.metrics import classification_report\n",
    "from sklearn.svm import SVC\n",
    "from sklearn.tree import DecisionTreeClassifier as DTC"
   ]
  },
  {
   "cell_type": "code",
   "execution_count": 2,
   "id": "898e414f",
   "metadata": {},
   "outputs": [],
   "source": [
    "train_df = pd.read_csv('train_set.csv')\n",
    "test_df = pd.read_csv('test_set.csv')"
   ]
  },
  {
   "cell_type": "code",
   "execution_count": 3,
   "id": "18db741c",
   "metadata": {},
   "outputs": [
    {
     "data": {
      "text/html": [
       "<div>\n",
       "<style scoped>\n",
       "    .dataframe tbody tr th:only-of-type {\n",
       "        vertical-align: middle;\n",
       "    }\n",
       "\n",
       "    .dataframe tbody tr th {\n",
       "        vertical-align: top;\n",
       "    }\n",
       "\n",
       "    .dataframe thead th {\n",
       "        text-align: right;\n",
       "    }\n",
       "</style>\n",
       "<table border=\"1\" class=\"dataframe\">\n",
       "  <thead>\n",
       "    <tr style=\"text-align: right;\">\n",
       "      <th></th>\n",
       "      <th>lang_id</th>\n",
       "      <th>text</th>\n",
       "    </tr>\n",
       "  </thead>\n",
       "  <tbody>\n",
       "    <tr>\n",
       "      <th>0</th>\n",
       "      <td>xho</td>\n",
       "      <td>umgaqo-siseko wenza amalungiselelo kumaziko ax...</td>\n",
       "    </tr>\n",
       "    <tr>\n",
       "      <th>1</th>\n",
       "      <td>xho</td>\n",
       "      <td>i-dha iya kuba nobulumko bokubeka umsebenzi na...</td>\n",
       "    </tr>\n",
       "    <tr>\n",
       "      <th>2</th>\n",
       "      <td>eng</td>\n",
       "      <td>the province of kwazulu-natal department of tr...</td>\n",
       "    </tr>\n",
       "    <tr>\n",
       "      <th>3</th>\n",
       "      <td>nso</td>\n",
       "      <td>o netefatša gore o ba file dilo ka moka tše le...</td>\n",
       "    </tr>\n",
       "    <tr>\n",
       "      <th>4</th>\n",
       "      <td>ven</td>\n",
       "      <td>khomishini ya ndinganyiso ya mbeu yo ewa maana...</td>\n",
       "    </tr>\n",
       "  </tbody>\n",
       "</table>\n",
       "</div>"
      ],
      "text/plain": [
       "  lang_id                                               text\n",
       "0     xho  umgaqo-siseko wenza amalungiselelo kumaziko ax...\n",
       "1     xho  i-dha iya kuba nobulumko bokubeka umsebenzi na...\n",
       "2     eng  the province of kwazulu-natal department of tr...\n",
       "3     nso  o netefatša gore o ba file dilo ka moka tše le...\n",
       "4     ven  khomishini ya ndinganyiso ya mbeu yo ewa maana..."
      ]
     },
     "execution_count": 3,
     "metadata": {},
     "output_type": "execute_result"
    }
   ],
   "source": [
    "train_df.head(5)"
   ]
  },
  {
   "cell_type": "code",
   "execution_count": 8,
   "id": "dd70c447",
   "metadata": {},
   "outputs": [
    {
     "data": {
      "text/html": [
       "<div>\n",
       "<style scoped>\n",
       "    .dataframe tbody tr th:only-of-type {\n",
       "        vertical-align: middle;\n",
       "    }\n",
       "\n",
       "    .dataframe tbody tr th {\n",
       "        vertical-align: top;\n",
       "    }\n",
       "\n",
       "    .dataframe thead th {\n",
       "        text-align: right;\n",
       "    }\n",
       "</style>\n",
       "<table border=\"1\" class=\"dataframe\">\n",
       "  <thead>\n",
       "    <tr style=\"text-align: right;\">\n",
       "      <th></th>\n",
       "      <th>index</th>\n",
       "      <th>text</th>\n",
       "    </tr>\n",
       "  </thead>\n",
       "  <tbody>\n",
       "    <tr>\n",
       "      <th>0</th>\n",
       "      <td>1</td>\n",
       "      <td>Mmasepala, fa maemo a a kgethegileng a letlele...</td>\n",
       "    </tr>\n",
       "    <tr>\n",
       "      <th>1</th>\n",
       "      <td>2</td>\n",
       "      <td>Uzakwaziswa ngokufaneleko nakungafuneka eminye...</td>\n",
       "    </tr>\n",
       "    <tr>\n",
       "      <th>2</th>\n",
       "      <td>3</td>\n",
       "      <td>Tshivhumbeo tshi fana na ngano dza vhathu.</td>\n",
       "    </tr>\n",
       "    <tr>\n",
       "      <th>3</th>\n",
       "      <td>4</td>\n",
       "      <td>Kube inja nelikati betingevakala kutsi titsini...</td>\n",
       "    </tr>\n",
       "    <tr>\n",
       "      <th>4</th>\n",
       "      <td>5</td>\n",
       "      <td>Winste op buitelandse valuta.</td>\n",
       "    </tr>\n",
       "  </tbody>\n",
       "</table>\n",
       "</div>"
      ],
      "text/plain": [
       "   index                                               text\n",
       "0      1  Mmasepala, fa maemo a a kgethegileng a letlele...\n",
       "1      2  Uzakwaziswa ngokufaneleko nakungafuneka eminye...\n",
       "2      3         Tshivhumbeo tshi fana na ngano dza vhathu.\n",
       "3      4  Kube inja nelikati betingevakala kutsi titsini...\n",
       "4      5                      Winste op buitelandse valuta."
      ]
     },
     "execution_count": 8,
     "metadata": {},
     "output_type": "execute_result"
    }
   ],
   "source": [
    "test_df.head(5)"
   ]
  },
  {
   "cell_type": "code",
   "execution_count": 5,
   "id": "5ab77b5c",
   "metadata": {},
   "outputs": [
    {
     "name": "stdout",
     "output_type": "stream",
     "text": [
      "<class 'pandas.core.frame.DataFrame'>\n",
      "RangeIndex: 33000 entries, 0 to 32999\n",
      "Data columns (total 2 columns):\n",
      " #   Column   Non-Null Count  Dtype \n",
      "---  ------   --------------  ----- \n",
      " 0   lang_id  33000 non-null  object\n",
      " 1   text     33000 non-null  object\n",
      "dtypes: object(2)\n",
      "memory usage: 515.8+ KB\n"
     ]
    }
   ],
   "source": [
    "train_df.info()"
   ]
  },
  {
   "cell_type": "code",
   "execution_count": 15,
   "id": "99edfdcb",
   "metadata": {},
   "outputs": [
    {
     "data": {
      "text/plain": [
       "array(['xho', 'eng', 'nso', 'ven', 'tsn', 'nbl', 'zul', 'ssw', 'tso',\n",
       "       'sot', 'afr'], dtype=object)"
      ]
     },
     "execution_count": 15,
     "metadata": {},
     "output_type": "execute_result"
    }
   ],
   "source": [
    "train_df[\"lang_id\"].unique()"
   ]
  },
  {
   "cell_type": "code",
   "execution_count": 20,
   "id": "c2d5b410",
   "metadata": {},
   "outputs": [
    {
     "data": {
      "image/png": "[encoded data removed]",
      "text/plain": [
       "<Figure size 640x480 with 1 Axes>"
      ]
     },
     "metadata": {},
     "output_type": "display_data"
    }
   ],
   "source": [
    "#Creatind a distirbution plot of the occurrence of each language in the data set\n",
    "\n",
    "labels = train_df[\"lang_id\"].unique()\n",
    "heights = list(map(lambda lang: len(train_df[train_df[\"lang_id\"] == lang]), labels))\n",
    "plt.bar(labels,heights,color='purple')\n",
    "plt.ylabel(\"Number of observations\")\n",
    "plt.xlabel(\"Class Descriptions\")\n",
    "plt.show()"
   ]
  },
  {
   "cell_type": "code",
   "execution_count": 78,
   "id": "6c25db01",
   "metadata": {},
   "outputs": [],
   "source": [
    "#Including a vectoriser and limiting features to assist with computation time\n",
    "vect = CountVectorizer(lowercase=True,max_features=1000)\n",
    "X_train = vect.fit_transform(train_df['text'])\n",
    "unseen_data = vect.transform(test_df['text'])"
   ]
  },
  {
   "cell_type": "code",
   "execution_count": 79,
   "id": "f2157e5b",
   "metadata": {},
   "outputs": [
    {
     "data": {
      "text/plain": [
       "(33000, 1000)"
      ]
     },
     "execution_count": 79,
     "metadata": {},
     "output_type": "execute_result"
    }
   ],
   "source": [
    "X_train.shape"
   ]
  },
  {
   "cell_type": "code",
   "execution_count": 80,
   "id": "b32630b6",
   "metadata": {},
   "outputs": [],
   "source": [
    "X = X_train.toarray()"
   ]
  },
  {
   "cell_type": "code",
   "execution_count": 81,
   "id": "39534027",
   "metadata": {},
   "outputs": [
    {
     "data": {
      "text/plain": [
       "array([9, 9, 1, ..., 1, 9, 4])"
      ]
     },
     "execution_count": 81,
     "metadata": {},
     "output_type": "execute_result"
    }
   ],
   "source": [
    "#Encoding the labels to numbers so it can be processed in a model\n",
    "le = LabelEncoder()\n",
    "y = le.fit_transform(train_df['lang_id'])\n",
    "y"
   ]
  },
  {
   "cell_type": "code",
   "execution_count": 82,
   "id": "de304223",
   "metadata": {},
   "outputs": [],
   "source": [
    "#A list of the classes in their correct form\n",
    "type_labels = list(le.classes_)"
   ]
  },
  {
   "cell_type": "code",
   "execution_count": 83,
   "id": "f8343169",
   "metadata": {},
   "outputs": [],
   "source": [
    "X_train, X_test, y_train, y_test = train_test_split(X, y, test_size=0.2, random_state=45)"
   ]
  },
  {
   "cell_type": "code",
   "execution_count": 84,
   "id": "a616455f",
   "metadata": {},
   "outputs": [],
   "source": [
    "logreg = LogisticRegression(max_iter=2000,multi_class='ovr')"
   ]
  },
  {
   "cell_type": "code",
   "execution_count": 85,
   "id": "40e0a3e4",
   "metadata": {},
   "outputs": [
    {
     "data": {
      "text/plain": [
       "LogisticRegression(max_iter=2000, multi_class='ovr')"
      ]
     },
     "execution_count": 85,
     "metadata": {},
     "output_type": "execute_result"
    }
   ],
   "source": [
    "logreg.fit(X_train, y_train)"
   ]
  },
  {
   "cell_type": "code",
   "execution_count": 86,
   "id": "0e6b40cd",
   "metadata": {},
   "outputs": [],
   "source": [
    "y_pred_test = logreg.predict(X_test)"
   ]
  },
  {
   "cell_type": "code",
   "execution_count": 87,
   "id": "67e4669c",
   "metadata": {},
   "outputs": [
    {
     "name": "stdout",
     "output_type": "stream",
     "text": [
      "              precision    recall  f1-score   support\n",
      "\n",
      "         afr       1.00      1.00      1.00       599\n",
      "         eng       1.00      1.00      1.00       632\n",
      "         nbl       0.94      0.89      0.91       595\n",
      "         nso       1.00      1.00      1.00       582\n",
      "         sot       1.00      1.00      1.00       610\n",
      "         ssw       0.90      0.97      0.93       607\n",
      "         tsn       1.00      1.00      1.00       579\n",
      "         tso       1.00      1.00      1.00       611\n",
      "         ven       1.00      1.00      1.00       605\n",
      "         xho       0.92      0.95      0.93       591\n",
      "         zul       0.91      0.87      0.89       589\n",
      "\n",
      "    accuracy                           0.97      6600\n",
      "   macro avg       0.97      0.97      0.97      6600\n",
      "weighted avg       0.97      0.97      0.97      6600\n",
      "\n"
     ]
    }
   ],
   "source": [
    "#Creating a report to measure the performance\n",
    "print(classification_report(y_test, y_pred_test, target_names=type_labels))"
   ]
  },
  {
   "cell_type": "code",
   "execution_count": 99,
   "id": "b99ad37f",
   "metadata": {},
   "outputs": [
    {
     "name": "stdout",
     "output_type": "stream",
     "text": [
      "              precision    recall  f1-score   support\n",
      "\n",
      "         afr       1.00      1.00      1.00       599\n",
      "         eng       1.00      1.00      1.00       632\n",
      "         nbl       0.93      0.89      0.91       595\n",
      "         nso       0.99      1.00      1.00       582\n",
      "         sot       0.99      1.00      1.00       610\n",
      "         ssw       0.88      0.98      0.92       607\n",
      "         tsn       1.00      0.99      0.99       579\n",
      "         tso       1.00      1.00      1.00       611\n",
      "         ven       1.00      1.00      1.00       605\n",
      "         xho       0.90      0.95      0.93       591\n",
      "         zul       0.93      0.81      0.86       589\n",
      "\n",
      "    accuracy                           0.96      6600\n",
      "   macro avg       0.96      0.96      0.96      6600\n",
      "weighted avg       0.97      0.96      0.96      6600\n",
      "\n"
     ]
    }
   ],
   "source": [
    "#Creating a SVC to compare to other models\n",
    "\n",
    "SVC_model = SVC(kernel=\"linear\", C=1.0, gamma=0.1)\n",
    "\n",
    "SVC_model.fit(X_train, y_train)\n",
    "\n",
    "pred_svc = SVC_model.predict(X_test)\n",
    "print(classification_report(y_test, pred_svc, target_names=type_labels))"
   ]
  },
  {
   "cell_type": "code",
   "execution_count": 100,
   "id": "5349fd69",
   "metadata": {},
   "outputs": [
    {
     "name": "stdout",
     "output_type": "stream",
     "text": [
      "              precision    recall  f1-score   support\n",
      "\n",
      "         afr       0.99      1.00      1.00       599\n",
      "         eng       0.99      1.00      0.99       632\n",
      "         nbl       0.88      0.86      0.87       595\n",
      "         nso       0.98      0.97      0.98       582\n",
      "         sot       0.97      0.98      0.97       610\n",
      "         ssw       0.86      0.93      0.89       607\n",
      "         tsn       0.97      0.98      0.97       579\n",
      "         tso       0.98      0.99      0.98       611\n",
      "         ven       0.99      0.98      0.99       605\n",
      "         xho       0.89      0.92      0.90       591\n",
      "         zul       0.86      0.77      0.81       589\n",
      "\n",
      "    accuracy                           0.94      6600\n",
      "   macro avg       0.94      0.94      0.94      6600\n",
      "weighted avg       0.94      0.94      0.94      6600\n",
      "\n"
     ]
    }
   ],
   "source": [
    "#A decision tree classifier to also compare with other models\n",
    "DTC_model = DTC(random_state = 42)\n",
    "DTC_model.fit(X_train,y_train)\n",
    "pred_dt = DTC_model.predict(X_test)\n",
    "print(classification_report(y_test, pred_dt, target_names=type_labels))"
   ]
  },
  {
   "cell_type": "code",
   "execution_count": 101,
   "id": "fbef7b7b",
   "metadata": {},
   "outputs": [],
   "source": [
    "#Logistic regression is used as it performs best\n",
    "new_pred = logreg.predict(unseen_data)\n",
    "predicted_labels = le.inverse_transform(new_pred)\n",
    "new_df = pd.DataFrame({'index': test_df['index'], 'lang_id': predicted_labels})\n"
   ]
  },
  {
   "cell_type": "code",
   "execution_count": 89,
   "id": "fb238702",
   "metadata": {},
   "outputs": [],
   "source": [
    "new_df.to_csv('Logregpred.csv', index=False)"
   ]
  },
  {
   "cell_type": "code",
   "execution_count": null,
   "id": "ec268f23",
   "metadata": {},
   "outputs": [],
   "source": []
  }
 ],
 "metadata": {
  "kernelspec": {
   "display_name": "Python 3 (ipykernel)",
   "language": "python",
   "name": "python3"
  },
  "language_info": {
   "codemirror_mode": {
    "name": "ipython",
    "version": 3
   },
   "file_extension": ".py",
   "mimetype": "text/x-python",
   "name": "python",
   "nbconvert_exporter": "python",
   "pygments_lexer": "ipython3",
   "version": "3.9.13"
  }
 },
 "nbformat": 4,
 "nbformat_minor": 5
}
